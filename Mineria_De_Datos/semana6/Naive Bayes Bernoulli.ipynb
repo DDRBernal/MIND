{
 "cells": [
  {
   "cell_type": "code",
   "execution_count": 1,
   "metadata": {},
   "outputs": [],
   "source": [
    "import pandas as pd\n",
    "import numpy as np"
   ]
  },
  {
   "cell_type": "code",
   "execution_count": 2,
   "metadata": {},
   "outputs": [],
   "source": [
    "df = pd.read_excel(\"Datos.xlsx\",index_col=\"Nombre\")"
   ]
  },
  {
   "cell_type": "code",
   "execution_count": 4,
   "metadata": {},
   "outputs": [
    {
     "data": {
      "text/html": [
       "<div>\n",
       "<style scoped>\n",
       "    .dataframe tbody tr th:only-of-type {\n",
       "        vertical-align: middle;\n",
       "    }\n",
       "\n",
       "    .dataframe tbody tr th {\n",
       "        vertical-align: top;\n",
       "    }\n",
       "\n",
       "    .dataframe thead th {\n",
       "        text-align: right;\n",
       "    }\n",
       "</style>\n",
       "<table border=\"1\" class=\"dataframe\">\n",
       "  <thead>\n",
       "    <tr style=\"text-align: right;\">\n",
       "      <th></th>\n",
       "      <th>X1</th>\n",
       "      <th>X2</th>\n",
       "      <th>Y</th>\n",
       "    </tr>\n",
       "    <tr>\n",
       "      <th>Nombre</th>\n",
       "      <th></th>\n",
       "      <th></th>\n",
       "      <th></th>\n",
       "    </tr>\n",
       "  </thead>\n",
       "  <tbody>\n",
       "    <tr>\n",
       "      <th>Luis</th>\n",
       "      <td>400</td>\n",
       "      <td>20</td>\n",
       "      <td>0</td>\n",
       "    </tr>\n",
       "    <tr>\n",
       "      <th>Francisco</th>\n",
       "      <td>450</td>\n",
       "      <td>35</td>\n",
       "      <td>0</td>\n",
       "    </tr>\n",
       "    <tr>\n",
       "      <th>Maria</th>\n",
       "      <td>500</td>\n",
       "      <td>25</td>\n",
       "      <td>0</td>\n",
       "    </tr>\n",
       "    <tr>\n",
       "      <th>Alvaro</th>\n",
       "      <td>600</td>\n",
       "      <td>15</td>\n",
       "      <td>0</td>\n",
       "    </tr>\n",
       "    <tr>\n",
       "      <th>Soledad</th>\n",
       "      <td>600</td>\n",
       "      <td>30</td>\n",
       "      <td>0</td>\n",
       "    </tr>\n",
       "  </tbody>\n",
       "</table>\n",
       "</div>"
      ],
      "text/plain": [
       "            X1  X2  Y\n",
       "Nombre               \n",
       "Luis       400  20  0\n",
       "Francisco  450  35  0\n",
       "Maria      500  25  0\n",
       "Alvaro     600  15  0\n",
       "Soledad    600  30  0"
      ]
     },
     "execution_count": 4,
     "metadata": {},
     "output_type": "execute_result"
    }
   ],
   "source": [
    "df.head()"
   ]
  },
  {
   "cell_type": "code",
   "execution_count": 7,
   "metadata": {},
   "outputs": [],
   "source": [
    "# media de las columnas x1,x2\n",
    "X1_media= df[\"X1\"].mean()\n",
    "X2_media= df[\"X2\"].mean()"
   ]
  },
  {
   "cell_type": "code",
   "execution_count": 8,
   "metadata": {},
   "outputs": [],
   "source": [
    "# maximos de las columnas x1,x2\n",
    "X1_max= df[\"X1\"].max()\n",
    "X2_max= df[\"X2\"].max()"
   ]
  },
  {
   "cell_type": "code",
   "execution_count": 10,
   "metadata": {},
   "outputs": [],
   "source": [
    "df[\"X1_cat\"] = pd.cut(df[\"X1\"], bins=[0,X1_media,X1_max],labels=[\"Pobre\",\"Rico\"]) "
   ]
  },
  {
   "cell_type": "code",
   "execution_count": 12,
   "metadata": {},
   "outputs": [],
   "source": [
    "df[\"X2_cat\"] = pd.cut(df[\"X2\"], bins=[0,X2_media,X2_max],labels=[\"Joven\",\"Viejo\"]) "
   ]
  },
  {
   "cell_type": "code",
   "execution_count": 13,
   "metadata": {},
   "outputs": [
    {
     "data": {
      "text/html": [
       "<div>\n",
       "<style scoped>\n",
       "    .dataframe tbody tr th:only-of-type {\n",
       "        vertical-align: middle;\n",
       "    }\n",
       "\n",
       "    .dataframe tbody tr th {\n",
       "        vertical-align: top;\n",
       "    }\n",
       "\n",
       "    .dataframe thead th {\n",
       "        text-align: right;\n",
       "    }\n",
       "</style>\n",
       "<table border=\"1\" class=\"dataframe\">\n",
       "  <thead>\n",
       "    <tr style=\"text-align: right;\">\n",
       "      <th></th>\n",
       "      <th>X1</th>\n",
       "      <th>X2</th>\n",
       "      <th>Y</th>\n",
       "      <th>X1_cat</th>\n",
       "      <th>X2_cat</th>\n",
       "    </tr>\n",
       "    <tr>\n",
       "      <th>Nombre</th>\n",
       "      <th></th>\n",
       "      <th></th>\n",
       "      <th></th>\n",
       "      <th></th>\n",
       "      <th></th>\n",
       "    </tr>\n",
       "  </thead>\n",
       "  <tbody>\n",
       "    <tr>\n",
       "      <th>Luis</th>\n",
       "      <td>400</td>\n",
       "      <td>20</td>\n",
       "      <td>0</td>\n",
       "      <td>Pobre</td>\n",
       "      <td>Joven</td>\n",
       "    </tr>\n",
       "    <tr>\n",
       "      <th>Francisco</th>\n",
       "      <td>450</td>\n",
       "      <td>35</td>\n",
       "      <td>0</td>\n",
       "      <td>Pobre</td>\n",
       "      <td>Joven</td>\n",
       "    </tr>\n",
       "    <tr>\n",
       "      <th>Maria</th>\n",
       "      <td>500</td>\n",
       "      <td>25</td>\n",
       "      <td>0</td>\n",
       "      <td>Pobre</td>\n",
       "      <td>Joven</td>\n",
       "    </tr>\n",
       "    <tr>\n",
       "      <th>Alvaro</th>\n",
       "      <td>600</td>\n",
       "      <td>15</td>\n",
       "      <td>0</td>\n",
       "      <td>Pobre</td>\n",
       "      <td>Joven</td>\n",
       "    </tr>\n",
       "    <tr>\n",
       "      <th>Soledad</th>\n",
       "      <td>600</td>\n",
       "      <td>30</td>\n",
       "      <td>0</td>\n",
       "      <td>Pobre</td>\n",
       "      <td>Joven</td>\n",
       "    </tr>\n",
       "  </tbody>\n",
       "</table>\n",
       "</div>"
      ],
      "text/plain": [
       "            X1  X2  Y X1_cat X2_cat\n",
       "Nombre                             \n",
       "Luis       400  20  0  Pobre  Joven\n",
       "Francisco  450  35  0  Pobre  Joven\n",
       "Maria      500  25  0  Pobre  Joven\n",
       "Alvaro     600  15  0  Pobre  Joven\n",
       "Soledad    600  30  0  Pobre  Joven"
      ]
     },
     "execution_count": 13,
     "metadata": {},
     "output_type": "execute_result"
    }
   ],
   "source": [
    "df.head()"
   ]
  },
  {
   "cell_type": "code",
   "execution_count": 14,
   "metadata": {},
   "outputs": [],
   "source": [
    "from sklearn.naive_bayes import BernoulliNB"
   ]
  },
  {
   "cell_type": "code",
   "execution_count": null,
   "metadata": {},
   "outputs": [],
   "source": []
  }
 ],
 "metadata": {
  "kernelspec": {
   "display_name": "Python 3",
   "language": "python",
   "name": "python3"
  },
  "language_info": {
   "codemirror_mode": {
    "name": "ipython",
    "version": 3
   },
   "file_extension": ".py",
   "mimetype": "text/x-python",
   "name": "python",
   "nbconvert_exporter": "python",
   "pygments_lexer": "ipython3",
   "version": "3.7.0"
  }
 },
 "nbformat": 4,
 "nbformat_minor": 2
}
