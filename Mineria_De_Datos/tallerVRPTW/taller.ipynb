{
 "cells": [
  {
   "cell_type": "code",
   "execution_count": 4,
   "metadata": {},
   "outputs": [],
   "source": [
    "#importar librerias\n",
    "import pandas as pd\n",
    "#instanciamos el data.xlsx\n",
    "df = pd.read_excel('Datos_VRP.xlsx',index_col='i')"
   ]
  },
  {
   "cell_type": "code",
   "execution_count": 5,
   "metadata": {},
   "outputs": [
    {
     "data": {
      "text/html": [
       "<div>\n",
       "<style scoped>\n",
       "    .dataframe tbody tr th:only-of-type {\n",
       "        vertical-align: middle;\n",
       "    }\n",
       "\n",
       "    .dataframe tbody tr th {\n",
       "        vertical-align: top;\n",
       "    }\n",
       "\n",
       "    .dataframe thead th {\n",
       "        text-align: right;\n",
       "    }\n",
       "</style>\n",
       "<table border=\"1\" class=\"dataframe\">\n",
       "  <thead>\n",
       "    <tr style=\"text-align: right;\">\n",
       "      <th></th>\n",
       "      <th>x</th>\n",
       "      <th>y</th>\n",
       "      <th>di</th>\n",
       "      <th>ei</th>\n",
       "      <th>li</th>\n",
       "    </tr>\n",
       "    <tr>\n",
       "      <th>i</th>\n",
       "      <th></th>\n",
       "      <th></th>\n",
       "      <th></th>\n",
       "      <th></th>\n",
       "      <th></th>\n",
       "    </tr>\n",
       "  </thead>\n",
       "  <tbody>\n",
       "    <tr>\n",
       "      <th>1</th>\n",
       "      <td>25</td>\n",
       "      <td>85</td>\n",
       "      <td>20</td>\n",
       "      <td>673</td>\n",
       "      <td>793</td>\n",
       "    </tr>\n",
       "    <tr>\n",
       "      <th>2</th>\n",
       "      <td>22</td>\n",
       "      <td>75</td>\n",
       "      <td>30</td>\n",
       "      <td>152</td>\n",
       "      <td>272</td>\n",
       "    </tr>\n",
       "    <tr>\n",
       "      <th>3</th>\n",
       "      <td>22</td>\n",
       "      <td>85</td>\n",
       "      <td>10</td>\n",
       "      <td>471</td>\n",
       "      <td>591</td>\n",
       "    </tr>\n",
       "    <tr>\n",
       "      <th>4</th>\n",
       "      <td>20</td>\n",
       "      <td>80</td>\n",
       "      <td>40</td>\n",
       "      <td>644</td>\n",
       "      <td>764</td>\n",
       "    </tr>\n",
       "    <tr>\n",
       "      <th>5</th>\n",
       "      <td>20</td>\n",
       "      <td>85</td>\n",
       "      <td>20</td>\n",
       "      <td>73</td>\n",
       "      <td>193</td>\n",
       "    </tr>\n",
       "  </tbody>\n",
       "</table>\n",
       "</div>"
      ],
      "text/plain": [
       "    x   y  di   ei   li\n",
       "i                      \n",
       "1  25  85  20  673  793\n",
       "2  22  75  30  152  272\n",
       "3  22  85  10  471  591\n",
       "4  20  80  40  644  764\n",
       "5  20  85  20   73  193"
      ]
     },
     "execution_count": 5,
     "metadata": {},
     "output_type": "execute_result"
    }
   ],
   "source": [
    "df.head()"
   ]
  },
  {
   "cell_type": "code",
   "execution_count": 15,
   "metadata": {},
   "outputs": [],
   "source": [
    "X = df.values"
   ]
  },
  {
   "cell_type": "code",
   "execution_count": 8,
   "metadata": {},
   "outputs": [],
   "source": [
    "from sklearn.cluster import KMeans"
   ]
  },
  {
   "cell_type": "code",
   "execution_count": 9,
   "metadata": {},
   "outputs": [],
   "source": [
    "modelo = KMeans()\n",
    "Y = modelo.fit_predict(X)"
   ]
  },
  {
   "cell_type": "code",
   "execution_count": 10,
   "metadata": {},
   "outputs": [
    {
     "data": {
      "text/plain": [
       "(100,)"
      ]
     },
     "execution_count": 10,
     "metadata": {},
     "output_type": "execute_result"
    }
   ],
   "source": [
    "Y.shape"
   ]
  },
  {
   "cell_type": "code",
   "execution_count": 11,
   "metadata": {},
   "outputs": [
    {
     "data": {
      "text/plain": [
       "array([3, 6, 7, 3, 0, 4, 2, 4, 4, 7, 6, 2, 3, 0, 6, 2, 3, 4, 2, 1, 2, 4,\n",
       "       6, 3, 5, 7, 6, 6, 6, 2, 6, 1, 0, 7, 3, 0, 1, 2, 0, 4, 4, 0, 1, 2,\n",
       "       0, 7, 0, 3, 7, 7, 4, 6, 4, 1, 1, 1, 4, 5, 0, 3, 2, 6, 0, 6, 0, 1,\n",
       "       2, 1, 6, 5, 2, 0, 2, 3, 2, 2, 5, 4, 4, 5, 4, 6, 0, 4, 4, 4, 4, 2,\n",
       "       3, 4, 3, 0, 5, 4, 0, 1, 1, 6, 4, 5])"
      ]
     },
     "execution_count": 11,
     "metadata": {},
     "output_type": "execute_result"
    }
   ],
   "source": [
    "Y"
   ]
  },
  {
   "cell_type": "code",
   "execution_count": 12,
   "metadata": {},
   "outputs": [],
   "source": [
    "import matplotlib.pyplot as plt"
   ]
  },
  {
   "cell_type": "code",
   "execution_count": 13,
   "metadata": {},
   "outputs": [
    {
     "data": {
      "image/png": "[encoded data removed]",
      "text/plain": [
       "<Figure size 432x288 with 1 Axes>"
      ]
     },
     "metadata": {
      "needs_background": "light"
     },
     "output_type": "display_data"
    }
   ],
   "source": [
    "plt.scatter(X[:,0],X[:,1])\n",
    "plt.show()"
   ]
  },
  {
   "cell_type": "code",
   "execution_count": 14,
   "metadata": {},
   "outputs": [
    {
     "data": {
      "text/html": [
       "<div>\n",
       "<style scoped>\n",
       "    .dataframe tbody tr th:only-of-type {\n",
       "        vertical-align: middle;\n",
       "    }\n",
       "\n",
       "    .dataframe tbody tr th {\n",
       "        vertical-align: top;\n",
       "    }\n",
       "\n",
       "    .dataframe thead th {\n",
       "        text-align: right;\n",
       "    }\n",
       "</style>\n",
       "<table border=\"1\" class=\"dataframe\">\n",
       "  <thead>\n",
       "    <tr style=\"text-align: right;\">\n",
       "      <th></th>\n",
       "      <th>x</th>\n",
       "      <th>y</th>\n",
       "    </tr>\n",
       "    <tr>\n",
       "      <th>i</th>\n",
       "      <th></th>\n",
       "      <th></th>\n",
       "    </tr>\n",
       "  </thead>\n",
       "  <tbody>\n",
       "    <tr>\n",
       "      <th>1</th>\n",
       "      <td>25</td>\n",
       "      <td>85</td>\n",
       "    </tr>\n",
       "    <tr>\n",
       "      <th>2</th>\n",
       "      <td>22</td>\n",
       "      <td>75</td>\n",
       "    </tr>\n",
       "    <tr>\n",
       "      <th>3</th>\n",
       "      <td>22</td>\n",
       "      <td>85</td>\n",
       "    </tr>\n",
       "    <tr>\n",
       "      <th>4</th>\n",
       "      <td>20</td>\n",
       "      <td>80</td>\n",
       "    </tr>\n",
       "    <tr>\n",
       "      <th>5</th>\n",
       "      <td>20</td>\n",
       "      <td>85</td>\n",
       "    </tr>\n",
       "  </tbody>\n",
       "</table>\n",
       "</div>"
      ],
      "text/plain": [
       "    x   y\n",
       "i        \n",
       "1  25  85\n",
       "2  22  75\n",
       "3  22  85\n",
       "4  20  80\n",
       "5  20  85"
      ]
     },
     "execution_count": 14,
     "metadata": {},
     "output_type": "execute_result"
    }
   ],
   "source": [
    "X1 = df[['x','y']]\n",
    "X1.head()"
   ]
  },
  {
   "cell_type": "markdown",
   "metadata": {},
   "source": [
    "# Matriz de Enlaces"
   ]
  },
  {
   "cell_type": "code",
   "execution_count": 17,
   "metadata": {},
   "outputs": [],
   "source": [
    "#importar la libreria \n",
    "from scipy.cluster.hierarchy import linkage"
   ]
  },
  {
   "cell_type": "code",
   "execution_count": 22,
   "metadata": {},
   "outputs": [
    {
     "name": "stdout",
     "output_type": "stream",
     "text": [
      "[736.94708087 285.86185475  46.17358552 ... 193.17608548 902.42672833\n",
      " 710.77492921] \n",
      " \n",
      "\n",
      "[[  0.         736.94708087 285.86185475 ... 709.37507709 518.62896178\n",
      "  195.41494313]\n",
      " [736.94708087   0.         451.68794538 ...  42.26109322 224.7509733\n",
      "  931.02201907]\n",
      " [285.86185475 451.68794538   0.         ... 424.15563181 235.9639803\n",
      "  479.89165444]\n",
      " ...\n",
      " [709.37507709  42.26109322 424.15563181 ...   0.         193.17608548\n",
      "  902.42672833]\n",
      " [518.62896178 224.7509733  235.9639803  ... 193.17608548   0.\n",
      "  710.77492921]\n",
      " [195.41494313 931.02201907 479.89165444 ... 902.42672833 710.77492921\n",
      "    0.        ]] \n",
      "\n"
     ]
    }
   ],
   "source": [
    "from scipy.spatial.distance import pdist, squareform\n",
    "#vector de distancias euclidianos\n",
    "distVect = pdist(df,metric='euclidean')\n",
    "\n",
    "#los siguientes pasos solo sirven para entender los resultados del vector de distancias\n",
    "#convertir en matriz cuadrada \n",
    "distMat = squareform(distVect)\n",
    "\n",
    "#convertir en dataframe de Pandas la matriz de distancias\n",
    "#dist_renglon = pd.DataFrame(distMat,columns=etiquetas, index=etiquetas)\n",
    "#mostrar\n",
    "print(distVect,\"\\n \\n\")\n",
    "print(distMat,\"\\n\")\n",
    "#print(dist_renglon)"
   ]
  },
  {
   "cell_type": "code",
   "execution_count": 23,
   "metadata": {},
   "outputs": [],
   "source": [
    "#clustering\n",
    "clusters = linkage(distVect,method='complete')\n",
    "#complete -> algoritmo del punto mas lejano o algoritmo Voor Hees\n",
    "#single -> algoritmo del punto mas lejano\n",
    "#centroid -> algoritmo entre los centroides"
   ]
  },
  {
   "cell_type": "code",
   "execution_count": 28,
   "metadata": {},
   "outputs": [
    {
     "name": "stdout",
     "output_type": "stream",
     "text": [
      "99\n"
     ]
    },
    {
     "data": {
      "text/html": [
       "<div>\n",
       "<style scoped>\n",
       "    .dataframe tbody tr th:only-of-type {\n",
       "        vertical-align: middle;\n",
       "    }\n",
       "\n",
       "    .dataframe tbody tr th {\n",
       "        vertical-align: top;\n",
       "    }\n",
       "\n",
       "    .dataframe thead th {\n",
       "        text-align: right;\n",
       "    }\n",
       "</style>\n",
       "<table border=\"1\" class=\"dataframe\">\n",
       "  <thead>\n",
       "    <tr style=\"text-align: right;\">\n",
       "      <th></th>\n",
       "      <th>Etiqueta 1</th>\n",
       "      <th>Etiqueta 2</th>\n",
       "      <th>Similitud</th>\n",
       "      <th>No. en cluster</th>\n",
       "    </tr>\n",
       "  </thead>\n",
       "  <tbody>\n",
       "    <tr>\n",
       "      <th>Paso 1</th>\n",
       "      <td>26.0</td>\n",
       "      <td>27.0</td>\n",
       "      <td>12.328828</td>\n",
       "      <td>2.0</td>\n",
       "    </tr>\n",
       "    <tr>\n",
       "      <th>Paso 2</th>\n",
       "      <td>55.0</td>\n",
       "      <td>65.0</td>\n",
       "      <td>16.000000</td>\n",
       "      <td>2.0</td>\n",
       "    </tr>\n",
       "    <tr>\n",
       "      <th>Paso 3</th>\n",
       "      <td>38.0</td>\n",
       "      <td>71.0</td>\n",
       "      <td>16.431677</td>\n",
       "      <td>2.0</td>\n",
       "    </tr>\n",
       "    <tr>\n",
       "      <th>Paso 4</th>\n",
       "      <td>80.0</td>\n",
       "      <td>89.0</td>\n",
       "      <td>17.691806</td>\n",
       "      <td>2.0</td>\n",
       "    </tr>\n",
       "    <tr>\n",
       "      <th>Paso 5</th>\n",
       "      <td>64.0</td>\n",
       "      <td>91.0</td>\n",
       "      <td>18.841444</td>\n",
       "      <td>2.0</td>\n",
       "    </tr>\n",
       "    <tr>\n",
       "      <th>...</th>\n",
       "      <td>...</td>\n",
       "      <td>...</td>\n",
       "      <td>...</td>\n",
       "      <td>...</td>\n",
       "    </tr>\n",
       "    <tr>\n",
       "      <th>Paso 95</th>\n",
       "      <td>188.0</td>\n",
       "      <td>191.0</td>\n",
       "      <td>316.109158</td>\n",
       "      <td>22.0</td>\n",
       "    </tr>\n",
       "    <tr>\n",
       "      <th>Paso 96</th>\n",
       "      <td>185.0</td>\n",
       "      <td>192.0</td>\n",
       "      <td>356.698752</td>\n",
       "      <td>33.0</td>\n",
       "    </tr>\n",
       "    <tr>\n",
       "      <th>Paso 97</th>\n",
       "      <td>190.0</td>\n",
       "      <td>193.0</td>\n",
       "      <td>420.148783</td>\n",
       "      <td>45.0</td>\n",
       "    </tr>\n",
       "    <tr>\n",
       "      <th>Paso 98</th>\n",
       "      <td>194.0</td>\n",
       "      <td>195.0</td>\n",
       "      <td>702.040597</td>\n",
       "      <td>55.0</td>\n",
       "    </tr>\n",
       "    <tr>\n",
       "      <th>Paso 99</th>\n",
       "      <td>196.0</td>\n",
       "      <td>197.0</td>\n",
       "      <td>1147.015257</td>\n",
       "      <td>100.0</td>\n",
       "    </tr>\n",
       "  </tbody>\n",
       "</table>\n",
       "<p>99 rows × 4 columns</p>\n",
       "</div>"
      ],
      "text/plain": [
       "         Etiqueta 1  Etiqueta 2    Similitud  No. en cluster\n",
       "Paso 1         26.0        27.0    12.328828             2.0\n",
       "Paso 2         55.0        65.0    16.000000             2.0\n",
       "Paso 3         38.0        71.0    16.431677             2.0\n",
       "Paso 4         80.0        89.0    17.691806             2.0\n",
       "Paso 5         64.0        91.0    18.841444             2.0\n",
       "...             ...         ...          ...             ...\n",
       "Paso 95       188.0       191.0   316.109158            22.0\n",
       "Paso 96       185.0       192.0   356.698752            33.0\n",
       "Paso 97       190.0       193.0   420.148783            45.0\n",
       "Paso 98       194.0       195.0   702.040597            55.0\n",
       "Paso 99       196.0       197.0  1147.015257           100.0\n",
       "\n",
       "[99 rows x 4 columns]"
      ]
     },
     "execution_count": 28,
     "metadata": {},
     "output_type": "execute_result"
    }
   ],
   "source": [
    "#numero de pasos\n",
    "num_pasos= clusters.shape[0]\n",
    "print(num_pasos)\n",
    "# ver los resultados del agrupamiento en un dataframe de mpandas\n",
    "pd.DataFrame(clusters,columns=['Etiqueta 1','Etiqueta 2','Similitud','No. en cluster'],\n",
    "            index=['Paso %d' %(i+1) for i in range(num_pasos)])"
   ]
  },
  {
   "cell_type": "code",
   "execution_count": 25,
   "metadata": {},
   "outputs": [
    {
     "data": {
      "image/png": "[encoded data removed]",
      "text/plain": [
       "<Figure size 432x288 with 1 Axes>"
      ]
     },
     "metadata": {
      "needs_background": "light"
     },
     "output_type": "display_data"
    }
   ],
   "source": [
    "#seleccionar el numero de clusters\n",
    "pasos=[i+1 for i in range(num_pasos)]\n",
    "plt.plot(pasos, clusters[:,2], marker='o')\n",
    "plt.xlabel('Paso')\n",
    "plt.ylabel('Discimilitud')\n",
    "plt.show()"
   ]
  },
  {
   "cell_type": "code",
   "execution_count": null,
   "metadata": {},
   "outputs": [],
   "source": []
  }
 ],
 "metadata": {
  "kernelspec": {
   "display_name": "Python 3",
   "language": "python",
   "name": "python3"
  },
  "language_info": {
   "codemirror_mode": {
    "name": "ipython",
    "version": 3
   },
   "file_extension": ".py",
   "mimetype": "text/x-python",
   "name": "python",
   "nbconvert_exporter": "python",
   "pygments_lexer": "ipython3",
   "version": "3.7.6"
  }
 },
 "nbformat": 4,
 "nbformat_minor": 4
}
