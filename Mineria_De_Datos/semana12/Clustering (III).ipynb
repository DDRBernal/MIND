{
 "cells": [
  {
   "cell_type": "code",
   "execution_count": 1,
   "metadata": {},
   "outputs": [],
   "source": [
    "import pandas as pd\n",
    "import numpy as np"
   ]
  },
  {
   "cell_type": "code",
   "execution_count": 3,
   "metadata": {},
   "outputs": [],
   "source": [
    "%matplotlib inline\n",
    "from matplotlib import rcParams\n",
    "rcParams['figure.dpi'] = 80"
   ]
  },
  {
   "cell_type": "code",
   "execution_count": 4,
   "metadata": {},
   "outputs": [],
   "source": [
    "#generar un dataset aleatorio\n",
    "from sklearn.datasets import make_blobs\n",
    "#semilla de aleatorios\n",
    "np.random.seed(123)\n",
    "#variables\n",
    "variables=['X','Y','Z']\n",
    "#etiquetas\n",
    "etiquetas=['ID_0','ID_1','ID_2','ID_3','ID_4']\n",
    "#generar muestras aleatorias continuas uniformes entre 0 y 10\n",
    "X = np.random.sample([5,3])*10\n",
    "#contruccion del dataset\n",
    "df = pd.DataFrame(X,columns=variables,index=etiquetas)\n"
   ]
  },
  {
   "cell_type": "code",
   "execution_count": 5,
   "metadata": {},
   "outputs": [
    {
     "data": {
      "text/html": [
       "<div>\n",
       "<style scoped>\n",
       "    .dataframe tbody tr th:only-of-type {\n",
       "        vertical-align: middle;\n",
       "    }\n",
       "\n",
       "    .dataframe tbody tr th {\n",
       "        vertical-align: top;\n",
       "    }\n",
       "\n",
       "    .dataframe thead th {\n",
       "        text-align: right;\n",
       "    }\n",
       "</style>\n",
       "<table border=\"1\" class=\"dataframe\">\n",
       "  <thead>\n",
       "    <tr style=\"text-align: right;\">\n",
       "      <th></th>\n",
       "      <th>X</th>\n",
       "      <th>Y</th>\n",
       "      <th>Z</th>\n",
       "    </tr>\n",
       "  </thead>\n",
       "  <tbody>\n",
       "    <tr>\n",
       "      <th>ID_0</th>\n",
       "      <td>6.964692</td>\n",
       "      <td>2.861393</td>\n",
       "      <td>2.268515</td>\n",
       "    </tr>\n",
       "    <tr>\n",
       "      <th>ID_1</th>\n",
       "      <td>5.513148</td>\n",
       "      <td>7.194690</td>\n",
       "      <td>4.231065</td>\n",
       "    </tr>\n",
       "    <tr>\n",
       "      <th>ID_2</th>\n",
       "      <td>9.807642</td>\n",
       "      <td>6.848297</td>\n",
       "      <td>4.809319</td>\n",
       "    </tr>\n",
       "    <tr>\n",
       "      <th>ID_3</th>\n",
       "      <td>3.921175</td>\n",
       "      <td>3.431780</td>\n",
       "      <td>7.290497</td>\n",
       "    </tr>\n",
       "    <tr>\n",
       "      <th>ID_4</th>\n",
       "      <td>4.385722</td>\n",
       "      <td>0.596779</td>\n",
       "      <td>3.980443</td>\n",
       "    </tr>\n",
       "  </tbody>\n",
       "</table>\n",
       "</div>"
      ],
      "text/plain": [
       "             X         Y         Z\n",
       "ID_0  6.964692  2.861393  2.268515\n",
       "ID_1  5.513148  7.194690  4.231065\n",
       "ID_2  9.807642  6.848297  4.809319\n",
       "ID_3  3.921175  3.431780  7.290497\n",
       "ID_4  4.385722  0.596779  3.980443"
      ]
     },
     "execution_count": 5,
     "metadata": {},
     "output_type": "execute_result"
    }
   ],
   "source": [
    "df"
   ]
  },
  {
   "cell_type": "code",
   "execution_count": 7,
   "metadata": {},
   "outputs": [],
   "source": [
    "####matriz de distancia\n",
    "\n",
    "#importar libreria de distancias\n",
    "from scipy.spatial.distance import pdist, squareform\n",
    "#pdis -> distancias por parejas entre observaciones en espacio n-dimensional\n",
    "#squareform -> convierte un vector de distancia de forma vectorial en una matriz de distancia de forma cuadratica"
   ]
  },
  {
   "cell_type": "code",
   "execution_count": 10,
   "metadata": {},
   "outputs": [],
   "source": [
    "#vector de distancias euclidianos\n",
    "distVect = pdist(df,metric='euclidean')\n",
    "\n",
    "#los siguientes pasos solo sirven para entender los resultados del vector de distancias\n",
    "#convertir en matriz cuadrada \n",
    "distMat = squareform(distVect)\n",
    "\n",
    "#convertir en dataframe de Pandas la matriz de distancias\n",
    "dist_renglon = pd.DataFrame(distMat,columns=etiquetas, index=etiquetas)\n"
   ]
  },
  {
   "cell_type": "code",
   "execution_count": 16,
   "metadata": {},
   "outputs": [
    {
     "name": "stdout",
     "output_type": "stream",
     "text": [
      "[4.973534   5.51665266 5.89988504 3.83539555 4.34707339 5.10431109\n",
      " 6.69823298 7.24426159 8.31659367 4.382864  ] \n",
      "\n",
      "[[0.         4.973534   5.51665266 5.89988504 3.83539555]\n",
      " [4.973534   0.         4.34707339 5.10431109 6.69823298]\n",
      " [5.51665266 4.34707339 0.         7.24426159 8.31659367]\n",
      " [5.89988504 5.10431109 7.24426159 0.         4.382864  ]\n",
      " [3.83539555 6.69823298 8.31659367 4.382864   0.        ]] /n\n",
      "          ID_0      ID_1      ID_2      ID_3      ID_4\n",
      "ID_0  0.000000  4.973534  5.516653  5.899885  3.835396\n",
      "ID_1  4.973534  0.000000  4.347073  5.104311  6.698233\n",
      "ID_2  5.516653  4.347073  0.000000  7.244262  8.316594\n",
      "ID_3  5.899885  5.104311  7.244262  0.000000  4.382864\n",
      "ID_4  3.835396  6.698233  8.316594  4.382864  0.000000\n"
     ]
    }
   ],
   "source": [
    "#mostrar\n",
    "print(distVect,\"\\n\")\n",
    "print(distMat,\"/n\")\n",
    "print(dist_renglon)"
   ]
  },
  {
   "cell_type": "markdown",
   "metadata": {},
   "source": [
    "# matriz de enlaces\n",
    "#se usa la matriz de distancias condesada (triangular superior), se podria usar la matriz redundante (completa), pero no se recomienda"
   ]
  },
  {
   "cell_type": "code",
   "execution_count": 19,
   "metadata": {},
   "outputs": [],
   "source": [
    "#importar la libreria \n",
    "from scipy.cluster.hierarchy import linkage"
   ]
  },
  {
   "cell_type": "code",
   "execution_count": 20,
   "metadata": {},
   "outputs": [],
   "source": [
    "#clustering\n",
    "clusters = linkage(distVect,method='complete')\n",
    "#complete -> algoritmo del punto mas lejano o algoritmo Voor Hees\n",
    "#single -> algoritmo del punto mas lejano\n",
    "#centroid -> algoritmo entre los centroides"
   ]
  },
  {
   "cell_type": "code",
   "execution_count": 23,
   "metadata": {},
   "outputs": [
    {
     "data": {
      "text/html": [
       "<div>\n",
       "<style scoped>\n",
       "    .dataframe tbody tr th:only-of-type {\n",
       "        vertical-align: middle;\n",
       "    }\n",
       "\n",
       "    .dataframe tbody tr th {\n",
       "        vertical-align: top;\n",
       "    }\n",
       "\n",
       "    .dataframe thead th {\n",
       "        text-align: right;\n",
       "    }\n",
       "</style>\n",
       "<table border=\"1\" class=\"dataframe\">\n",
       "  <thead>\n",
       "    <tr style=\"text-align: right;\">\n",
       "      <th></th>\n",
       "      <th>Etiqueta 1</th>\n",
       "      <th>Etiqueta 2</th>\n",
       "      <th>Similitud</th>\n",
       "      <th>No. en cluster</th>\n",
       "    </tr>\n",
       "  </thead>\n",
       "  <tbody>\n",
       "    <tr>\n",
       "      <th>Paso 1</th>\n",
       "      <td>0.0</td>\n",
       "      <td>4.0</td>\n",
       "      <td>3.835396</td>\n",
       "      <td>2.0</td>\n",
       "    </tr>\n",
       "    <tr>\n",
       "      <th>Paso 2</th>\n",
       "      <td>1.0</td>\n",
       "      <td>2.0</td>\n",
       "      <td>4.347073</td>\n",
       "      <td>2.0</td>\n",
       "    </tr>\n",
       "    <tr>\n",
       "      <th>Paso 3</th>\n",
       "      <td>3.0</td>\n",
       "      <td>5.0</td>\n",
       "      <td>5.899885</td>\n",
       "      <td>3.0</td>\n",
       "    </tr>\n",
       "    <tr>\n",
       "      <th>Paso 4</th>\n",
       "      <td>6.0</td>\n",
       "      <td>7.0</td>\n",
       "      <td>8.316594</td>\n",
       "      <td>5.0</td>\n",
       "    </tr>\n",
       "  </tbody>\n",
       "</table>\n",
       "</div>"
      ],
      "text/plain": [
       "        Etiqueta 1  Etiqueta 2  Similitud  No. en cluster\n",
       "Paso 1         0.0         4.0   3.835396             2.0\n",
       "Paso 2         1.0         2.0   4.347073             2.0\n",
       "Paso 3         3.0         5.0   5.899885             3.0\n",
       "Paso 4         6.0         7.0   8.316594             5.0"
      ]
     },
     "execution_count": 23,
     "metadata": {},
     "output_type": "execute_result"
    }
   ],
   "source": [
    "#numero de pasos\n",
    "num_pasos= clusters.shape[0]\n",
    "# ver los resultados del agrupamiento en un dataframe de mpandas\n",
    "pd.DataFrame(clusters,columns=['Etiqueta 1','Etiqueta 2','Similitud','No. en cluster'],\n",
    "            index=['Paso %d' %(i+1) for i in range(num_pasos)])"
   ]
  },
  {
   "cell_type": "code",
   "execution_count": 29,
   "metadata": {},
   "outputs": [
    {
     "data": {
      "image/png": "[encoded data removed]",
      "text/plain": [
       "<Figure size 480x320 with 1 Axes>"
      ]
     },
     "metadata": {
      "needs_background": "light"
     },
     "output_type": "display_data"
    }
   ],
   "source": [
    "#visualizacion en un dendograma\n",
    "#importar las librerias\n",
    "from scipy.cluster.hierarchy import dendrogram\n",
    "import matplotlib.pyplot as plt\n",
    "#dendograma\n",
    "dendograma = dendrogram(clusters,labels=etiquetas)\n",
    "plt.ylabel('similitud')\n",
    "plt.show()"
   ]
  },
  {
   "cell_type": "code",
   "execution_count": 30,
   "metadata": {},
   "outputs": [
    {
     "data": {
      "image/png": "[encoded data removed]",
      "text/plain": [
       "<Figure size 480x320 with 1 Axes>"
      ]
     },
     "metadata": {
      "needs_background": "light"
     },
     "output_type": "display_data"
    }
   ],
   "source": [
    "#seleccionar el numero de clusters\n",
    "pasos=[i+1 for i in range(num_pasos)]\n",
    "plt.plot(pasos, clusters[:,2], marker='o')\n",
    "plt.xlabel('Paso')\n",
    "plt.ylabel('Discimilitud')\n",
    "plt.show()"
   ]
  },
  {
   "cell_type": "code",
   "execution_count": 35,
   "metadata": {},
   "outputs": [],
   "source": [
    "#importar la libreria\n",
    "from sklearn.cluster import AgglomerativeClustering"
   ]
  },
  {
   "cell_type": "code",
   "execution_count": 42,
   "metadata": {},
   "outputs": [
    {
     "data": {
      "text/plain": [
       "AgglomerativeClustering(affinity='euclidean', compute_full_tree='auto',\n",
       "                        connectivity=None, distance_threshold=None,\n",
       "                        linkage='complete', memory=None, n_clusters=3)"
      ]
     },
     "execution_count": 42,
     "metadata": {},
     "output_type": "execute_result"
    }
   ],
   "source": [
    "#instanciar el modelo\n",
    "agloClus = AgglomerativeClustering(n_clusters=3, affinity='euclidean',\n",
    "                                  linkage='complete')\n",
    "agloClus.fit(X)\n",
    "#n_clusters -> numero de clusteres \n",
    "#affinity -> metrica \n",
    "#linkage -> tipo de algortimo"
   ]
  },
  {
   "cell_type": "code",
   "execution_count": 43,
   "metadata": {},
   "outputs": [
    {
     "name": "stdout",
     "output_type": "stream",
     "text": [
      "[1 0 0 2 1]\n"
     ]
    }
   ],
   "source": [
    "#predecir el cluster al que pertenece cada observacion\n",
    "Y = agloClus.fit_predict(X)\n",
    "print(Y)"
   ]
  },
  {
   "cell_type": "markdown",
   "metadata": {},
   "source": [
    "# metricas clustering "
   ]
  },
  {
   "cell_type": "code",
   "execution_count": 46,
   "metadata": {},
   "outputs": [],
   "source": [
    "#importar libreria \n",
    "from sklearn.metrics import silhouette_samples, silhouette_score\n"
   ]
  },
  {
   "cell_type": "code",
   "execution_count": 47,
   "metadata": {},
   "outputs": [
    {
     "name": "stdout",
     "output_type": "stream",
     "text": [
      "silueta=  0.18270645136135802\n"
     ]
    }
   ],
   "source": [
    "#silueta promedio sobre todas las muestras\n",
    "prom_sil = silhouette_score(X,Y)\n",
    "print(\"silueta= \",prom_sil)"
   ]
  },
  {
   "cell_type": "code",
   "execution_count": 49,
   "metadata": {},
   "outputs": [
    {
     "name": "stdout",
     "output_type": "stream",
     "text": [
      "ID_0 0.2687650513752733\n",
      "ID_1 0.1483525767471466\n",
      "ID_2 0.3715035092818889\n",
      "ID_3 0.0\n",
      "ID_4 0.12491111940248127\n"
     ]
    }
   ],
   "source": [
    "#silueta sobre cada muestra \n",
    "sil_muestras = silhouette_samples(X,Y)\n",
    "for x,y in zip(etiquetas,sil_muestras):\n",
    "    print(x,y)\n",
    "    \n",
    "#el metodo .zip empareja dos o mas listas"
   ]
  },
  {
   "cell_type": "code",
   "execution_count": 52,
   "metadata": {},
   "outputs": [],
   "source": [
    "#seleccionar el numero de clusteres \n",
    "sil=[]\n",
    "for i in range(2,5):\n",
    "    agc = AgglomerativeClustering(n_clusters=i,\n",
    "                                 affinity='euclidean',\n",
    "                                 linkage='complete')\n",
    "    agc_y = agc.fit_predict(X)\n",
    "    sil.append(silhouette_score(X,agc_y))\n"
   ]
  },
  {
   "cell_type": "code",
   "execution_count": 54,
   "metadata": {},
   "outputs": [
    {
     "data": {
      "image/png": "[encoded data removed]",
      "text/plain": [
       "<Figure size 480x320 with 1 Axes>"
      ]
     },
     "metadata": {
      "needs_background": "light"
     },
     "output_type": "display_data"
    }
   ],
   "source": [
    "#graficacion\n",
    "plt.plot(range(2,5),sil,marker='o')\n",
    "plt.xlabel('Num. Clusters')\n",
    "plt.show()"
   ]
  },
  {
   "cell_type": "code",
   "execution_count": 56,
   "metadata": {},
   "outputs": [],
   "source": [
    "#asignar cluster \n",
    "agc_def = AgglomerativeClustering(n_clusters=2,\n",
    "                                     affinity='euclidean',\n",
    "                                     linkage='complete')\n",
    "clusters_def=agc_def.fit_predict(X)\n",
    "#asignar al dataframe\n",
    "df['Cluster']=clusters_def"
   ]
  },
  {
   "cell_type": "code",
   "execution_count": 57,
   "metadata": {},
   "outputs": [
    {
     "data": {
      "text/html": [
       "<div>\n",
       "<style scoped>\n",
       "    .dataframe tbody tr th:only-of-type {\n",
       "        vertical-align: middle;\n",
       "    }\n",
       "\n",
       "    .dataframe tbody tr th {\n",
       "        vertical-align: top;\n",
       "    }\n",
       "\n",
       "    .dataframe thead th {\n",
       "        text-align: right;\n",
       "    }\n",
       "</style>\n",
       "<table border=\"1\" class=\"dataframe\">\n",
       "  <thead>\n",
       "    <tr style=\"text-align: right;\">\n",
       "      <th></th>\n",
       "      <th>X</th>\n",
       "      <th>Y</th>\n",
       "      <th>Z</th>\n",
       "      <th>Cluster</th>\n",
       "    </tr>\n",
       "  </thead>\n",
       "  <tbody>\n",
       "    <tr>\n",
       "      <th>ID_0</th>\n",
       "      <td>6.964692</td>\n",
       "      <td>2.861393</td>\n",
       "      <td>2.268515</td>\n",
       "      <td>0</td>\n",
       "    </tr>\n",
       "    <tr>\n",
       "      <th>ID_1</th>\n",
       "      <td>5.513148</td>\n",
       "      <td>7.194690</td>\n",
       "      <td>4.231065</td>\n",
       "      <td>1</td>\n",
       "    </tr>\n",
       "    <tr>\n",
       "      <th>ID_2</th>\n",
       "      <td>9.807642</td>\n",
       "      <td>6.848297</td>\n",
       "      <td>4.809319</td>\n",
       "      <td>1</td>\n",
       "    </tr>\n",
       "    <tr>\n",
       "      <th>ID_3</th>\n",
       "      <td>3.921175</td>\n",
       "      <td>3.431780</td>\n",
       "      <td>7.290497</td>\n",
       "      <td>0</td>\n",
       "    </tr>\n",
       "    <tr>\n",
       "      <th>ID_4</th>\n",
       "      <td>4.385722</td>\n",
       "      <td>0.596779</td>\n",
       "      <td>3.980443</td>\n",
       "      <td>0</td>\n",
       "    </tr>\n",
       "  </tbody>\n",
       "</table>\n",
       "</div>"
      ],
      "text/plain": [
       "             X         Y         Z  Cluster\n",
       "ID_0  6.964692  2.861393  2.268515        0\n",
       "ID_1  5.513148  7.194690  4.231065        1\n",
       "ID_2  9.807642  6.848297  4.809319        1\n",
       "ID_3  3.921175  3.431780  7.290497        0\n",
       "ID_4  4.385722  0.596779  3.980443        0"
      ]
     },
     "execution_count": 57,
     "metadata": {},
     "output_type": "execute_result"
    }
   ],
   "source": [
    "#mostrar resultado\n",
    "df"
   ]
  },
  {
   "cell_type": "code",
   "execution_count": null,
   "metadata": {},
   "outputs": [],
   "source": []
  }
 ],
 "metadata": {
  "kernelspec": {
   "display_name": "Python 3",
   "language": "python",
   "name": "python3"
  },
  "language_info": {
   "codemirror_mode": {
    "name": "ipython",
    "version": 3
   },
   "file_extension": ".py",
   "mimetype": "text/x-python",
   "name": "python",
   "nbconvert_exporter": "python",
   "pygments_lexer": "ipython3",
   "version": "3.7.6"
  }
 },
 "nbformat": 4,
 "nbformat_minor": 4
}
