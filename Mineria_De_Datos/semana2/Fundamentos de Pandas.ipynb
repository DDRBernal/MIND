{
 "cells": [
  {
   "cell_type": "code",
   "execution_count": 5,
   "metadata": {},
   "outputs": [],
   "source": [
    "#creacion"
   ]
  },
  {
   "cell_type": "code",
   "execution_count": 8,
   "metadata": {},
   "outputs": [],
   "source": [
    "import pandas as pd"
   ]
  },
  {
   "cell_type": "code",
   "execution_count": 11,
   "metadata": {},
   "outputs": [],
   "source": [
    "dic = {\"Primer nombre\": [\"steven\",\"david\",\"aurelio\"],\n",
    "       \"Segundo nombre\": [\"Felipe\",\"Luis\",\"Daniel\"],\n",
    "      \"Estatura_m\": [2.08,1.98,3.5],\n",
    "      \"Estudia\":[\"No\",\"Si\",\"No\"]}"
   ]
  },
  {
   "cell_type": "code",
   "execution_count": 18,
   "metadata": {},
   "outputs": [],
   "source": [
    "df= pd.DataFrame(dic);"
   ]
  },
  {
   "cell_type": "code",
   "execution_count": 19,
   "metadata": {},
   "outputs": [],
   "source": [
    "df[\"Estatura_in\"]= df[\"Estatura_m\"]*39.3701"
   ]
  },
  {
   "cell_type": "code",
   "execution_count": 36,
   "metadata": {},
   "outputs": [
    {
     "data": {
      "text/html": [
       "<div>\n",
       "<style scoped>\n",
       "    .dataframe tbody tr th:only-of-type {\n",
       "        vertical-align: middle;\n",
       "    }\n",
       "\n",
       "    .dataframe tbody tr th {\n",
       "        vertical-align: top;\n",
       "    }\n",
       "\n",
       "    .dataframe thead th {\n",
       "        text-align: right;\n",
       "    }\n",
       "</style>\n",
       "<table border=\"1\" class=\"dataframe\">\n",
       "  <thead>\n",
       "    <tr style=\"text-align: right;\">\n",
       "      <th></th>\n",
       "      <th>Primer nombre</th>\n",
       "      <th>Segundo nombre</th>\n",
       "      <th>Estatura_m</th>\n",
       "      <th>Estudia</th>\n",
       "      <th>Estatura_in</th>\n",
       "      <th>PrimerApellido</th>\n",
       "    </tr>\n",
       "    <tr>\n",
       "      <th>Codigo</th>\n",
       "      <th></th>\n",
       "      <th></th>\n",
       "      <th></th>\n",
       "      <th></th>\n",
       "      <th></th>\n",
       "      <th></th>\n",
       "    </tr>\n",
       "  </thead>\n",
       "  <tbody>\n",
       "    <tr>\n",
       "      <th>s1</th>\n",
       "      <td>steven</td>\n",
       "      <td>Felipe</td>\n",
       "      <td>2.08</td>\n",
       "      <td>No</td>\n",
       "      <td>81.889808</td>\n",
       "      <td>Bernal</td>\n",
       "    </tr>\n",
       "    <tr>\n",
       "      <th>d1</th>\n",
       "      <td>david</td>\n",
       "      <td>Luis</td>\n",
       "      <td>1.98</td>\n",
       "      <td>Si</td>\n",
       "      <td>77.952798</td>\n",
       "      <td>Ramirez</td>\n",
       "    </tr>\n",
       "    <tr>\n",
       "      <th>a1</th>\n",
       "      <td>aurelio</td>\n",
       "      <td>Daniel</td>\n",
       "      <td>3.50</td>\n",
       "      <td>No</td>\n",
       "      <td>137.795350</td>\n",
       "      <td>Coca</td>\n",
       "    </tr>\n",
       "  </tbody>\n",
       "</table>\n",
       "</div>"
      ],
      "text/plain": [
       "       Primer nombre Segundo nombre  Estatura_m Estudia  Estatura_in  \\\n",
       "Codigo                                                                 \n",
       "s1            steven         Felipe        2.08      No    81.889808   \n",
       "d1             david           Luis        1.98      Si    77.952798   \n",
       "a1           aurelio         Daniel        3.50      No   137.795350   \n",
       "\n",
       "       PrimerApellido  \n",
       "Codigo                 \n",
       "s1             Bernal  \n",
       "d1            Ramirez  \n",
       "a1               Coca  "
      ]
     },
     "execution_count": 36,
     "metadata": {},
     "output_type": "execute_result"
    }
   ],
   "source": [
    "df"
   ]
  },
  {
   "cell_type": "code",
   "execution_count": 25,
   "metadata": {},
   "outputs": [
    {
     "data": {
      "text/plain": [
       "Primer nombre       object\n",
       "Segundo nombre      object\n",
       "Estatura_m         float64\n",
       "Estudia           category\n",
       "Estatura_in        float64\n",
       "dtype: object"
      ]
     },
     "execution_count": 25,
     "metadata": {},
     "output_type": "execute_result"
    }
   ],
   "source": [
    "df.dtypes"
   ]
  },
  {
   "cell_type": "code",
   "execution_count": 29,
   "metadata": {},
   "outputs": [],
   "source": [
    "df[\"Estudia\"]= df[\"Estudia\"].astype(\"category\")"
   ]
  },
  {
   "cell_type": "raw",
   "metadata": {},
   "source": []
  },
  {
   "cell_type": "code",
   "execution_count": 31,
   "metadata": {},
   "outputs": [],
   "source": [
    "df[\"PrimerApellido\"]=[\"Bernal\",\"Ramirez\",\"Coca\"]"
   ]
  },
  {
   "cell_type": "code",
   "execution_count": 32,
   "metadata": {},
   "outputs": [
    {
     "data": {
      "text/plain": [
       "(3, 6)"
      ]
     },
     "execution_count": 32,
     "metadata": {},
     "output_type": "execute_result"
    }
   ],
   "source": [
    "df.shape"
   ]
  },
  {
   "cell_type": "code",
   "execution_count": 33,
   "metadata": {},
   "outputs": [],
   "source": [
    "df['Codigo']=['s1','d1','a1']"
   ]
  },
  {
   "cell_type": "code",
   "execution_count": 47,
   "metadata": {},
   "outputs": [
    {
     "data": {
      "text/html": [
       "<div>\n",
       "<style scoped>\n",
       "    .dataframe tbody tr th:only-of-type {\n",
       "        vertical-align: middle;\n",
       "    }\n",
       "\n",
       "    .dataframe tbody tr th {\n",
       "        vertical-align: top;\n",
       "    }\n",
       "\n",
       "    .dataframe thead th {\n",
       "        text-align: right;\n",
       "    }\n",
       "</style>\n",
       "<table border=\"1\" class=\"dataframe\">\n",
       "  <thead>\n",
       "    <tr style=\"text-align: right;\">\n",
       "      <th></th>\n",
       "      <th>Primer nombre</th>\n",
       "      <th>Segundo nombre</th>\n",
       "      <th>Estatura_m</th>\n",
       "      <th>Estudia</th>\n",
       "      <th>Estatura_in</th>\n",
       "      <th>PrimerApellido</th>\n",
       "    </tr>\n",
       "    <tr>\n",
       "      <th>Codigo</th>\n",
       "      <th></th>\n",
       "      <th></th>\n",
       "      <th></th>\n",
       "      <th></th>\n",
       "      <th></th>\n",
       "      <th></th>\n",
       "    </tr>\n",
       "  </thead>\n",
       "  <tbody>\n",
       "    <tr>\n",
       "      <th>s1</th>\n",
       "      <td>steven</td>\n",
       "      <td>Felipe</td>\n",
       "      <td>2.08</td>\n",
       "      <td>No</td>\n",
       "      <td>81.889808</td>\n",
       "      <td>Bernal</td>\n",
       "    </tr>\n",
       "    <tr>\n",
       "      <th>d1</th>\n",
       "      <td>david</td>\n",
       "      <td>Luis</td>\n",
       "      <td>1.98</td>\n",
       "      <td>Si</td>\n",
       "      <td>77.952798</td>\n",
       "      <td>Ramirez</td>\n",
       "    </tr>\n",
       "    <tr>\n",
       "      <th>a1</th>\n",
       "      <td>aurelio</td>\n",
       "      <td>Daniel</td>\n",
       "      <td>3.50</td>\n",
       "      <td>No</td>\n",
       "      <td>137.795350</td>\n",
       "      <td>Coca</td>\n",
       "    </tr>\n",
       "  </tbody>\n",
       "</table>\n",
       "</div>"
      ],
      "text/plain": [
       "       Primer nombre Segundo nombre  Estatura_m Estudia  Estatura_in  \\\n",
       "Codigo                                                                 \n",
       "s1            steven         Felipe        2.08      No    81.889808   \n",
       "d1             david           Luis        1.98      Si    77.952798   \n",
       "a1           aurelio         Daniel        3.50      No   137.795350   \n",
       "\n",
       "       PrimerApellido  \n",
       "Codigo                 \n",
       "s1             Bernal  \n",
       "d1            Ramirez  \n",
       "a1               Coca  "
      ]
     },
     "execution_count": 47,
     "metadata": {},
     "output_type": "execute_result"
    }
   ],
   "source": [
    "#df.set_index('Codigo',inplace=True)\n",
    "df"
   ]
  },
  {
   "cell_type": "code",
   "execution_count": 46,
   "metadata": {},
   "outputs": [],
   "source": [
    "#par remover\n",
    "df.drop(['MCB'],axis=1,inplace=True)"
   ]
  },
  {
   "cell_type": "code",
   "execution_count": 43,
   "metadata": {},
   "outputs": [],
   "source": [
    "df['MCB'] =['a','b','c']"
   ]
  },
  {
   "cell_type": "code",
   "execution_count": 49,
   "metadata": {},
   "outputs": [],
   "source": [
    "df = df[[\"Primer nombre\",\"Segundo nombre\",\"PrimerApellido\",\"Estatura_m\",\"Estatura_in\",\"Estudia\"]]"
   ]
  },
  {
   "cell_type": "code",
   "execution_count": 50,
   "metadata": {},
   "outputs": [
    {
     "data": {
      "text/html": [
       "<div>\n",
       "<style scoped>\n",
       "    .dataframe tbody tr th:only-of-type {\n",
       "        vertical-align: middle;\n",
       "    }\n",
       "\n",
       "    .dataframe tbody tr th {\n",
       "        vertical-align: top;\n",
       "    }\n",
       "\n",
       "    .dataframe thead th {\n",
       "        text-align: right;\n",
       "    }\n",
       "</style>\n",
       "<table border=\"1\" class=\"dataframe\">\n",
       "  <thead>\n",
       "    <tr style=\"text-align: right;\">\n",
       "      <th></th>\n",
       "      <th>Primer nombre</th>\n",
       "      <th>Segundo nombre</th>\n",
       "      <th>PrimerApellido</th>\n",
       "      <th>Estatura_m</th>\n",
       "      <th>Estatura_in</th>\n",
       "      <th>Estudia</th>\n",
       "    </tr>\n",
       "    <tr>\n",
       "      <th>Codigo</th>\n",
       "      <th></th>\n",
       "      <th></th>\n",
       "      <th></th>\n",
       "      <th></th>\n",
       "      <th></th>\n",
       "      <th></th>\n",
       "    </tr>\n",
       "  </thead>\n",
       "  <tbody>\n",
       "    <tr>\n",
       "      <th>s1</th>\n",
       "      <td>steven</td>\n",
       "      <td>Felipe</td>\n",
       "      <td>Bernal</td>\n",
       "      <td>2.08</td>\n",
       "      <td>81.889808</td>\n",
       "      <td>No</td>\n",
       "    </tr>\n",
       "    <tr>\n",
       "      <th>d1</th>\n",
       "      <td>david</td>\n",
       "      <td>Luis</td>\n",
       "      <td>Ramirez</td>\n",
       "      <td>1.98</td>\n",
       "      <td>77.952798</td>\n",
       "      <td>Si</td>\n",
       "    </tr>\n",
       "    <tr>\n",
       "      <th>a1</th>\n",
       "      <td>aurelio</td>\n",
       "      <td>Daniel</td>\n",
       "      <td>Coca</td>\n",
       "      <td>3.50</td>\n",
       "      <td>137.795350</td>\n",
       "      <td>No</td>\n",
       "    </tr>\n",
       "  </tbody>\n",
       "</table>\n",
       "</div>"
      ],
      "text/plain": [
       "       Primer nombre Segundo nombre PrimerApellido  Estatura_m  Estatura_in  \\\n",
       "Codigo                                                                        \n",
       "s1            steven         Felipe         Bernal        2.08    81.889808   \n",
       "d1             david           Luis        Ramirez        1.98    77.952798   \n",
       "a1           aurelio         Daniel           Coca        3.50   137.795350   \n",
       "\n",
       "       Estudia  \n",
       "Codigo          \n",
       "s1          No  \n",
       "d1          Si  \n",
       "a1          No  "
      ]
     },
     "execution_count": 50,
     "metadata": {},
     "output_type": "execute_result"
    }
   ],
   "source": [
    "df"
   ]
  },
  {
   "cell_type": "code",
   "execution_count": 52,
   "metadata": {},
   "outputs": [],
   "source": [
    "#para convertir\n",
    "df.to_excel('Datos.xlsx',sheet_name='datos')\n",
    "df.to_csv('datos.csv')"
   ]
  },
  {
   "cell_type": "code",
   "execution_count": 56,
   "metadata": {},
   "outputs": [
    {
     "data": {
      "text/plain": [
       "Primer nombre      steven\n",
       "Segundo nombre     Felipe\n",
       "PrimerApellido     Bernal\n",
       "Estatura_m           2.08\n",
       "Estatura_in       81.8898\n",
       "Estudia                No\n",
       "Name: s1, dtype: object"
      ]
     },
     "execution_count": 56,
     "metadata": {},
     "output_type": "execute_result"
    }
   ],
   "source": [
    "df.iloc[0]"
   ]
  },
  {
   "cell_type": "code",
   "execution_count": 57,
   "metadata": {},
   "outputs": [
    {
     "data": {
      "text/html": [
       "<div>\n",
       "<style scoped>\n",
       "    .dataframe tbody tr th:only-of-type {\n",
       "        vertical-align: middle;\n",
       "    }\n",
       "\n",
       "    .dataframe tbody tr th {\n",
       "        vertical-align: top;\n",
       "    }\n",
       "\n",
       "    .dataframe thead th {\n",
       "        text-align: right;\n",
       "    }\n",
       "</style>\n",
       "<table border=\"1\" class=\"dataframe\">\n",
       "  <thead>\n",
       "    <tr style=\"text-align: right;\">\n",
       "      <th></th>\n",
       "      <th>Primer nombre</th>\n",
       "      <th>Segundo nombre</th>\n",
       "      <th>PrimerApellido</th>\n",
       "      <th>Estatura_m</th>\n",
       "      <th>Estatura_in</th>\n",
       "      <th>Estudia</th>\n",
       "    </tr>\n",
       "    <tr>\n",
       "      <th>Codigo</th>\n",
       "      <th></th>\n",
       "      <th></th>\n",
       "      <th></th>\n",
       "      <th></th>\n",
       "      <th></th>\n",
       "      <th></th>\n",
       "    </tr>\n",
       "  </thead>\n",
       "  <tbody>\n",
       "    <tr>\n",
       "      <th>a1</th>\n",
       "      <td>aurelio</td>\n",
       "      <td>Daniel</td>\n",
       "      <td>Coca</td>\n",
       "      <td>3.50</td>\n",
       "      <td>137.795350</td>\n",
       "      <td>No</td>\n",
       "    </tr>\n",
       "    <tr>\n",
       "      <th>d1</th>\n",
       "      <td>david</td>\n",
       "      <td>Luis</td>\n",
       "      <td>Ramirez</td>\n",
       "      <td>1.98</td>\n",
       "      <td>77.952798</td>\n",
       "      <td>Si</td>\n",
       "    </tr>\n",
       "    <tr>\n",
       "      <th>s1</th>\n",
       "      <td>steven</td>\n",
       "      <td>Felipe</td>\n",
       "      <td>Bernal</td>\n",
       "      <td>2.08</td>\n",
       "      <td>81.889808</td>\n",
       "      <td>No</td>\n",
       "    </tr>\n",
       "  </tbody>\n",
       "</table>\n",
       "</div>"
      ],
      "text/plain": [
       "       Primer nombre Segundo nombre PrimerApellido  Estatura_m  Estatura_in  \\\n",
       "Codigo                                                                        \n",
       "a1           aurelio         Daniel           Coca        3.50   137.795350   \n",
       "d1             david           Luis        Ramirez        1.98    77.952798   \n",
       "s1            steven         Felipe         Bernal        2.08    81.889808   \n",
       "\n",
       "       Estudia  \n",
       "Codigo          \n",
       "a1          No  \n",
       "d1          Si  \n",
       "s1          No  "
      ]
     },
     "execution_count": 57,
     "metadata": {},
     "output_type": "execute_result"
    }
   ],
   "source": [
    "df.sort_index()"
   ]
  },
  {
   "cell_type": "code",
   "execution_count": 64,
   "metadata": {},
   "outputs": [],
   "source": [
    "df.sort_values(by=['Primer nombre'],ascending=True);"
   ]
  },
  {
   "cell_type": "code",
   "execution_count": 68,
   "metadata": {},
   "outputs": [
    {
     "data": {
      "text/html": [
       "<div>\n",
       "<style scoped>\n",
       "    .dataframe tbody tr th:only-of-type {\n",
       "        vertical-align: middle;\n",
       "    }\n",
       "\n",
       "    .dataframe tbody tr th {\n",
       "        vertical-align: top;\n",
       "    }\n",
       "\n",
       "    .dataframe thead th {\n",
       "        text-align: right;\n",
       "    }\n",
       "</style>\n",
       "<table border=\"1\" class=\"dataframe\">\n",
       "  <thead>\n",
       "    <tr style=\"text-align: right;\">\n",
       "      <th></th>\n",
       "      <th>Primer nombre</th>\n",
       "      <th>Segundo nombre</th>\n",
       "      <th>PrimerApellido</th>\n",
       "      <th>Estatura_m</th>\n",
       "      <th>Estatura_in</th>\n",
       "      <th>Estudia</th>\n",
       "    </tr>\n",
       "    <tr>\n",
       "      <th>Codigo</th>\n",
       "      <th></th>\n",
       "      <th></th>\n",
       "      <th></th>\n",
       "      <th></th>\n",
       "      <th></th>\n",
       "      <th></th>\n",
       "    </tr>\n",
       "  </thead>\n",
       "  <tbody>\n",
       "    <tr>\n",
       "      <th>s1</th>\n",
       "      <td>steven</td>\n",
       "      <td>Felipe</td>\n",
       "      <td>Bernal</td>\n",
       "      <td>2.08</td>\n",
       "      <td>81.889808</td>\n",
       "      <td>No</td>\n",
       "    </tr>\n",
       "    <tr>\n",
       "      <th>d1</th>\n",
       "      <td>david</td>\n",
       "      <td>Luis</td>\n",
       "      <td>Ramirez</td>\n",
       "      <td>1.98</td>\n",
       "      <td>77.952798</td>\n",
       "      <td>Si</td>\n",
       "    </tr>\n",
       "    <tr>\n",
       "      <th>a1</th>\n",
       "      <td>aurelio</td>\n",
       "      <td>Daniel</td>\n",
       "      <td>Coca</td>\n",
       "      <td>3.50</td>\n",
       "      <td>137.795350</td>\n",
       "      <td>No</td>\n",
       "    </tr>\n",
       "  </tbody>\n",
       "</table>\n",
       "</div>"
      ],
      "text/plain": [
       "       Primer nombre Segundo nombre PrimerApellido  Estatura_m  Estatura_in  \\\n",
       "Codigo                                                                        \n",
       "s1            steven         Felipe         Bernal        2.08    81.889808   \n",
       "d1             david           Luis        Ramirez        1.98    77.952798   \n",
       "a1           aurelio         Daniel           Coca        3.50   137.795350   \n",
       "\n",
       "       Estudia  \n",
       "Codigo          \n",
       "s1          No  \n",
       "d1          Si  \n",
       "a1          No  "
      ]
     },
     "execution_count": 68,
     "metadata": {},
     "output_type": "execute_result"
    }
   ],
   "source": [
    "df"
   ]
  },
  {
   "cell_type": "code",
   "execution_count": 74,
   "metadata": {},
   "outputs": [
    {
     "data": {
      "text/html": [
       "<div>\n",
       "<style scoped>\n",
       "    .dataframe tbody tr th:only-of-type {\n",
       "        vertical-align: middle;\n",
       "    }\n",
       "\n",
       "    .dataframe tbody tr th {\n",
       "        vertical-align: top;\n",
       "    }\n",
       "\n",
       "    .dataframe thead th {\n",
       "        text-align: right;\n",
       "    }\n",
       "</style>\n",
       "<table border=\"1\" class=\"dataframe\">\n",
       "  <thead>\n",
       "    <tr style=\"text-align: right;\">\n",
       "      <th></th>\n",
       "      <th>Primer nombre</th>\n",
       "      <th>Segundo nombre</th>\n",
       "      <th>PrimerApellido</th>\n",
       "      <th>Estatura_m</th>\n",
       "      <th>Estatura_in</th>\n",
       "      <th>Estudia</th>\n",
       "    </tr>\n",
       "    <tr>\n",
       "      <th>Codigo</th>\n",
       "      <th></th>\n",
       "      <th></th>\n",
       "      <th></th>\n",
       "      <th></th>\n",
       "      <th></th>\n",
       "      <th></th>\n",
       "    </tr>\n",
       "  </thead>\n",
       "  <tbody>\n",
       "    <tr>\n",
       "      <th>d1</th>\n",
       "      <td>david</td>\n",
       "      <td>Luis</td>\n",
       "      <td>Ramirez</td>\n",
       "      <td>1.98</td>\n",
       "      <td>77.952798</td>\n",
       "      <td>Si</td>\n",
       "    </tr>\n",
       "  </tbody>\n",
       "</table>\n",
       "</div>"
      ],
      "text/plain": [
       "       Primer nombre Segundo nombre PrimerApellido  Estatura_m  Estatura_in  \\\n",
       "Codigo                                                                        \n",
       "d1             david           Luis        Ramirez        1.98    77.952798   \n",
       "\n",
       "       Estudia  \n",
       "Codigo          \n",
       "d1          Si  "
      ]
     },
     "execution_count": 74,
     "metadata": {},
     "output_type": "execute_result"
    }
   ],
   "source": [
    "filtro = df['Estudia']==\"Si\"\n",
    "df[filtro]"
   ]
  },
  {
   "cell_type": "code",
   "execution_count": 71,
   "metadata": {},
   "outputs": [
    {
     "data": {
      "text/plain": [
       "Codigo\n",
       "s1    False\n",
       "d1     True\n",
       "a1    False\n",
       "Name: Estudia, dtype: bool"
      ]
     },
     "execution_count": 71,
     "metadata": {},
     "output_type": "execute_result"
    }
   ],
   "source": [
    "filtro"
   ]
  },
  {
   "cell_type": "code",
   "execution_count": 77,
   "metadata": {},
   "outputs": [],
   "source": [
    "df=[~filtro]"
   ]
  },
  {
   "cell_type": "code",
   "execution_count": 85,
   "metadata": {},
   "outputs": [
    {
     "ename": "TypeError",
     "evalue": "list indices must be integers or slices, not str",
     "output_type": "error",
     "traceback": [
      "\u001b[1;31m---------------------------------------------------------------------------\u001b[0m",
      "\u001b[1;31mTypeError\u001b[0m                                 Traceback (most recent call last)",
      "\u001b[1;32m<ipython-input-85-819276a7de1f>\u001b[0m in \u001b[0;36m<module>\u001b[1;34m()\u001b[0m\n\u001b[1;32m----> 1\u001b[1;33m \u001b[0mfiltro2\u001b[0m \u001b[1;33m=\u001b[0m \u001b[1;33m(\u001b[0m\u001b[0mdf\u001b[0m\u001b[1;33m[\u001b[0m\u001b[1;34m'Estudia'\u001b[0m\u001b[1;33m]\u001b[0m\u001b[1;33m==\u001b[0m\u001b[1;34m\"Si\"\u001b[0m\u001b[1;33m)\u001b[0m \u001b[1;33m|\u001b[0m \u001b[1;33m(\u001b[0m\u001b[0mdf\u001b[0m\u001b[1;33m[\u001b[0m\u001b[1;34m'Estatura_m'\u001b[0m\u001b[1;33m]\u001b[0m\u001b[1;33m<=\u001b[0m\u001b[1;36m2.08\u001b[0m\u001b[1;33m)\u001b[0m\u001b[1;33m\u001b[0m\u001b[0m\n\u001b[0m\u001b[0;32m      2\u001b[0m \u001b[0mdf\u001b[0m\u001b[1;33m[\u001b[0m\u001b[0mfiltro2\u001b[0m\u001b[1;33m]\u001b[0m\u001b[1;33m\u001b[0m\u001b[0m\n",
      "\u001b[1;31mTypeError\u001b[0m: list indices must be integers or slices, not str"
     ]
    }
   ],
   "source": [
    "filtro2 = (df['Estudia']==\"Si\") | (df['Estatura_m']<=2.08)\n",
    "df[filtro2]"
   ]
  },
  {
   "cell_type": "code",
   "execution_count": null,
   "metadata": {},
   "outputs": [],
   "source": []
  }
 ],
 "metadata": {
  "kernelspec": {
   "display_name": "Python 3",
   "language": "python",
   "name": "python3"
  },
  "language_info": {
   "codemirror_mode": {
    "name": "ipython",
    "version": 3
   },
   "file_extension": ".py",
   "mimetype": "text/x-python",
   "name": "python",
   "nbconvert_exporter": "python",
   "pygments_lexer": "ipython3",
   "version": "3.7.0"
  }
 },
 "nbformat": 4,
 "nbformat_minor": 2
}
