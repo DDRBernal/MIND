{
 "cells": [
  {
   "cell_type": "markdown",
   "metadata": {},
   "source": [
    "# Métricas para clasificación (II)\n",
    "## Problema multiclase"
   ]
  },
  {
   "cell_type": "code",
   "execution_count": 1,
   "metadata": {},
   "outputs": [],
   "source": [
    "# Cargar las librerías\n",
    "import pandas as pd\n",
    "import numpy as np"
   ]
  },
  {
   "cell_type": "code",
   "execution_count": 3,
   "metadata": {},
   "outputs": [],
   "source": [
    "# Cargar el dataset Iris\n",
    "df = pd.read_excel(\"Iris.xlsx\")"
   ]
  },
  {
   "cell_type": "code",
   "execution_count": 4,
   "metadata": {},
   "outputs": [
    {
     "data": {
      "text/html": [
       "<div>\n",
       "<style scoped>\n",
       "    .dataframe tbody tr th:only-of-type {\n",
       "        vertical-align: middle;\n",
       "    }\n",
       "\n",
       "    .dataframe tbody tr th {\n",
       "        vertical-align: top;\n",
       "    }\n",
       "\n",
       "    .dataframe thead th {\n",
       "        text-align: right;\n",
       "    }\n",
       "</style>\n",
       "<table border=\"1\" class=\"dataframe\">\n",
       "  <thead>\n",
       "    <tr style=\"text-align: right;\">\n",
       "      <th></th>\n",
       "      <th>sepal_length</th>\n",
       "      <th>sepal_width</th>\n",
       "      <th>petal_length</th>\n",
       "      <th>petal_width</th>\n",
       "      <th>class</th>\n",
       "    </tr>\n",
       "  </thead>\n",
       "  <tbody>\n",
       "    <tr>\n",
       "      <th>0</th>\n",
       "      <td>5.1</td>\n",
       "      <td>3.5</td>\n",
       "      <td>1.4</td>\n",
       "      <td>0.2</td>\n",
       "      <td>Iris-setosa</td>\n",
       "    </tr>\n",
       "    <tr>\n",
       "      <th>1</th>\n",
       "      <td>4.9</td>\n",
       "      <td>3.0</td>\n",
       "      <td>1.4</td>\n",
       "      <td>0.2</td>\n",
       "      <td>Iris-setosa</td>\n",
       "    </tr>\n",
       "    <tr>\n",
       "      <th>2</th>\n",
       "      <td>4.7</td>\n",
       "      <td>3.2</td>\n",
       "      <td>1.3</td>\n",
       "      <td>0.2</td>\n",
       "      <td>Iris-setosa</td>\n",
       "    </tr>\n",
       "    <tr>\n",
       "      <th>3</th>\n",
       "      <td>4.6</td>\n",
       "      <td>3.1</td>\n",
       "      <td>1.5</td>\n",
       "      <td>0.2</td>\n",
       "      <td>Iris-setosa</td>\n",
       "    </tr>\n",
       "    <tr>\n",
       "      <th>4</th>\n",
       "      <td>5.0</td>\n",
       "      <td>3.6</td>\n",
       "      <td>1.4</td>\n",
       "      <td>0.2</td>\n",
       "      <td>Iris-setosa</td>\n",
       "    </tr>\n",
       "  </tbody>\n",
       "</table>\n",
       "</div>"
      ],
      "text/plain": [
       "   sepal_length  sepal_width  petal_length  petal_width        class\n",
       "0           5.1          3.5           1.4          0.2  Iris-setosa\n",
       "1           4.9          3.0           1.4          0.2  Iris-setosa\n",
       "2           4.7          3.2           1.3          0.2  Iris-setosa\n",
       "3           4.6          3.1           1.5          0.2  Iris-setosa\n",
       "4           5.0          3.6           1.4          0.2  Iris-setosa"
      ]
     },
     "execution_count": 4,
     "metadata": {},
     "output_type": "execute_result"
    }
   ],
   "source": [
    "# Mostrar los 5 primeros registros\n",
    "df.head()"
   ]
  },
  {
   "cell_type": "code",
   "execution_count": 5,
   "metadata": {},
   "outputs": [],
   "source": [
    "# Dividir el dataset entre entrenamiento y prueba\n",
    "from sklearn.model_selection import train_test_split\n",
    "np.random.seed(1234)\n",
    "X = df[df.columns[:-1]]\n",
    "Y = df[\"class\"]\n",
    "X_train,X_test,y_train,y_test=train_test_split(X,Y,test_size=0.3)"
   ]
  },
  {
   "cell_type": "markdown",
   "metadata": {},
   "source": [
    "# Modelos Bagging con Máquinas de Soporte Vectorial"
   ]
  },
  {
   "cell_type": "code",
   "execution_count": 8,
   "metadata": {},
   "outputs": [],
   "source": [
    "# Importar librerías\n",
    "from sklearn.ensemble import BaggingClassifier\n",
    "from sklearn.svm import SVC"
   ]
  },
  {
   "cell_type": "markdown",
   "metadata": {},
   "source": [
    "## Kernel de base radial (Gaussiano)"
   ]
  },
  {
   "cell_type": "code",
   "execution_count": 11,
   "metadata": {},
   "outputs": [
    {
     "data": {
      "text/plain": [
       "BaggingClassifier(base_estimator=SVC(C=1.0, break_ties=False, cache_size=200,\n",
       "                                     class_weight=None, coef0=0.0,\n",
       "                                     decision_function_shape='ovr', degree=3,\n",
       "                                     gamma='scale', kernel='rbf', max_iter=-1,\n",
       "                                     probability=False, random_state=None,\n",
       "                                     shrinking=True, tol=0.001, verbose=False),\n",
       "                  bootstrap=True, bootstrap_features=False, max_features=1.0,\n",
       "                  max_samples=1.0, n_estimators=10, n_jobs=None,\n",
       "                  oob_score=False, random_state=None, verbose=0,\n",
       "                  warm_start=False)"
      ]
     },
     "execution_count": 11,
     "metadata": {},
     "output_type": "execute_result"
    }
   ],
   "source": [
    "# Instanciar el modelo y entrenarlo\n",
    "# por defecto trae la base radial, no es necesario parametro\n",
    "model_bag1 = BaggingClassifier(base_estimator=SVC())\n",
    "model_bag1.fit(X_train,y_train)"
   ]
  },
  {
   "cell_type": "code",
   "execution_count": 12,
   "metadata": {},
   "outputs": [],
   "source": [
    "# Predecir para la partición de prueba\n",
    "y_pred1 = model_bag1.predict(X_test)"
   ]
  },
  {
   "cell_type": "markdown",
   "metadata": {},
   "source": [
    "## Kernel  polinómico"
   ]
  },
  {
   "cell_type": "code",
   "execution_count": 13,
   "metadata": {},
   "outputs": [
    {
     "data": {
      "text/plain": [
       "BaggingClassifier(base_estimator=SVC(C=1.0, break_ties=False, cache_size=200,\n",
       "                                     class_weight=None, coef0=0.0,\n",
       "                                     decision_function_shape='ovr', degree=3,\n",
       "                                     gamma='scale', kernel='poly', max_iter=-1,\n",
       "                                     probability=False, random_state=None,\n",
       "                                     shrinking=True, tol=0.001, verbose=False),\n",
       "                  bootstrap=True, bootstrap_features=False, max_features=1.0,\n",
       "                  max_samples=1.0, n_estimators=10, n_jobs=None,\n",
       "                  oob_score=False, random_state=None, verbose=0,\n",
       "                  warm_start=False)"
      ]
     },
     "execution_count": 13,
     "metadata": {},
     "output_type": "execute_result"
    }
   ],
   "source": [
    "# Instanciar el modelo y entrenarlo\n",
    "model_bag2 = BaggingClassifier(base_estimator=SVC(kernel=\"poly\"))\n",
    "model_bag2.fit(X_train,y_train)"
   ]
  },
  {
   "cell_type": "code",
   "execution_count": 26,
   "metadata": {},
   "outputs": [],
   "source": [
    "# Predecir para la partición de prueba\n",
    "y_pred2= model_bag2.predict(X_test)"
   ]
  },
  {
   "cell_type": "markdown",
   "metadata": {},
   "source": [
    "## Kernel  sigmoidal"
   ]
  },
  {
   "cell_type": "code",
   "execution_count": 21,
   "metadata": {},
   "outputs": [
    {
     "data": {
      "text/plain": [
       "BaggingClassifier(base_estimator=SVC(C=1.0, break_ties=False, cache_size=200,\n",
       "                                     class_weight=None, coef0=0.0,\n",
       "                                     decision_function_shape='ovr', degree=3,\n",
       "                                     gamma='scale', kernel='sigmoid',\n",
       "                                     max_iter=-1, probability=False,\n",
       "                                     random_state=None, shrinking=True,\n",
       "                                     tol=0.001, verbose=False),\n",
       "                  bootstrap=True, bootstrap_features=False, max_features=1.0,\n",
       "                  max_samples=1.0, n_estimators=10, n_jobs=None,\n",
       "                  oob_score=False, random_state=None, verbose=0,\n",
       "                  warm_start=False)"
      ]
     },
     "execution_count": 21,
     "metadata": {},
     "output_type": "execute_result"
    }
   ],
   "source": [
    "# Instanciar el modelo y entrenarlo\n",
    "model_bag3 = BaggingClassifier(base_estimator=SVC(kernel=\"sigmoid\"))\n",
    "model_bag3.fit(X_train,y_train)"
   ]
  },
  {
   "cell_type": "code",
   "execution_count": 20,
   "metadata": {},
   "outputs": [],
   "source": [
    "# Predecir para la partición de prueba\n",
    "y_pred3= model_bag3.predict(X_test)"
   ]
  },
  {
   "cell_type": "markdown",
   "metadata": {},
   "source": [
    "# Comparación de métricas"
   ]
  },
  {
   "cell_type": "code",
   "execution_count": 42,
   "metadata": {},
   "outputs": [],
   "source": [
    "# Importar librerías \n",
    "from sklearn.metrics import accuracy_score,balanced_accuracy_score,confusion_matrix,precision_score\n",
    "from sklearn.metrics import f1_score,classification_report, recall_score"
   ]
  },
  {
   "cell_type": "markdown",
   "metadata": {},
   "source": [
    "La exactitud para clasificación multiclase se calcula igual que para clasificación binaria"
   ]
  },
  {
   "cell_type": "code",
   "execution_count": 27,
   "metadata": {},
   "outputs": [
    {
     "name": "stdout",
     "output_type": "stream",
     "text": [
      "Kernel base radial 0.9777777777777777 1.0 0.35555555555555557\n"
     ]
    }
   ],
   "source": [
    "# Exactitud ACC de cada modelo\n",
    "ACC1 = accuracy_score(y_test,y_pred1)\n",
    "ACC2 = accuracy_score(y_test,y_pred2)\n",
    "ACC3 = accuracy_score(y_test,y_pred3)\n",
    "\n",
    "print(\"Kernel base radial\",ACC1,ACC2,ACC3)"
   ]
  },
  {
   "cell_type": "markdown",
   "metadata": {},
   "source": [
    "La exactitud balanceada hace un promedio ponderado, si el clasficador se desempeña igual de bien en todas las clases, el indicador será similar que la exactitud normal. Si el parámetro *adjusted* es True, el BAC tomará valores entre $\\frac{1}{n}$ y 1, siendo $n$ el número de clases incluso si se realiza una clasificación aleatoria. Si el parámtreo es False el BAC tomará valores entre 0 y 1."
   ]
  },
  {
   "cell_type": "code",
   "execution_count": 30,
   "metadata": {},
   "outputs": [
    {
     "name": "stdout",
     "output_type": "stream",
     "text": [
      "Kernel base radial 0.9803921568627452 Kernel polinomico 1.0 Kernel sigmoidal 0.3333333333333333\n"
     ]
    }
   ],
   "source": [
    "# Exactitud balanceada BAC de cada modelo\n",
    "BAC1 = balanced_accuracy_score(y_test,y_pred1)\n",
    "BAC2 = balanced_accuracy_score(y_test,y_pred2)\n",
    "BAC3 = balanced_accuracy_score(y_test,y_pred3)\n",
    "\n",
    "print('Kernel base radial {} Kernel polinomico {} Kernel sigmoidal {}'.format(BAC1,BAC2,BAC3))"
   ]
  },
  {
   "cell_type": "markdown",
   "metadata": {},
   "source": [
    "La precisión para el caso multiclase tiene varias formas de calcularse, dependiendo el valor que se le de al parámetro *average*: \n",
    "* 'micro': calcula la precisión global haciendo que sea igual a la exactitud. \n",
    "* 'macro': calcula la precisión para cada clase y las promedia.\n",
    "* 'weighted': calcula la precisión para cada clase y las promedia en forma ponderada con base en el soporte (número de instancias por clase."
   ]
  },
  {
   "cell_type": "code",
   "execution_count": 38,
   "metadata": {},
   "outputs": [
    {
     "name": "stdout",
     "output_type": "stream",
     "text": [
      "Kernel base radial 0.9743589743589745 Kernel polinomico 1.0 Kernel sigmoidal 0.7851851851851852\n"
     ]
    }
   ],
   "source": [
    "# Precición (sin ponderar) para cada modelo\n",
    "PPV1 = precision_score(y_test,y_pred1,average=\"macro\")\n",
    "PPV2 = precision_score(y_test,y_pred2,average=\"macro\")\n",
    "## zero_division cambia una division por cero a 1\n",
    "PPV3 = precision_score(y_test,y_pred3,average=\"macro\",zero_division=1)\n",
    "print('Kernel base radial {} Kernel polinomico {} Kernel sigmoidal {}'.format(PPV1,PPV2,PPV3))"
   ]
  },
  {
   "cell_type": "code",
   "execution_count": 39,
   "metadata": {},
   "outputs": [
    {
     "name": "stdout",
     "output_type": "stream",
     "text": [
      "Kernel base radial 0.9743589743589745 Kernel polinomico 1.0 Kernel sigmoidal 0.7851851851851852\n"
     ]
    }
   ],
   "source": [
    "# Precición ponderada para cada modelo\n",
    "PPV1_P = precision_score(y_test,y_pred1,average=\"weighted\")\n",
    "PPV2_P = precision_score(y_test,y_pred2,average=\"weighted\")\n",
    "## zero_division cambia una division por cero a 1\n",
    "PPV3_P = precision_score(y_test,y_pred3,average=\"weighted\",zero_division=1)\n",
    "print('Kernel base radial {} Kernel polinomico {} Kernel sigmoidal {}'.format(PPV1_P,PPV2_P,PPV3_P))"
   ]
  },
  {
   "cell_type": "markdown",
   "metadata": {},
   "source": [
    "La sensibilidad o tasa de verdaderos positivos para el caso multiclase tiene varias formas de calcularse, dependiendo el valor que se le de al parámetro *average*: \n",
    "* 'micro': calcula la sensibilidad global. \n",
    "* 'macro': calcula la sensibilidad para cada clase y las promedia.\n",
    "* 'weighted': calcula la sensibilidad para cada clase y las promedia en forma ponderada con base en el soporte (número de instancias por clase."
   ]
  },
  {
   "cell_type": "code",
   "execution_count": 46,
   "metadata": {},
   "outputs": [
    {
     "name": "stdout",
     "output_type": "stream",
     "text": [
      "Kernel base radial 0.9803921568627452 Kernel polinomico 1.0 Kernel sigmoidal 0.3333333333333333\n"
     ]
    }
   ],
   "source": [
    "# Sensibilidad (sin ponderar) para cada modelo\n",
    "VPR1= recall_score(y_test,y_pred1,average='macro')\n",
    "VPR2= recall_score(y_test,y_pred2,average='macro')\n",
    "VPR3= recall_score(y_test,y_pred3,average='macro')\n",
    "\n",
    "print('Kernel base radial {} Kernel polinomico {} Kernel sigmoidal {}'.format(VPR1,VPR2,VPR3))"
   ]
  },
  {
   "cell_type": "code",
   "execution_count": 48,
   "metadata": {},
   "outputs": [
    {
     "name": "stdout",
     "output_type": "stream",
     "text": [
      "Kernel base radial 0.9777777777777777 Kernel polinomico 1.0 Kernel sigmoidal 0.35555555555555557\n"
     ]
    }
   ],
   "source": [
    "# Sensibilidad ponderada para cada modelo\n",
    "VPR1_P= recall_score(y_test,y_pred1,average='weighted')\n",
    "VPR2_P= recall_score(y_test,y_pred2,average='weighted')\n",
    "VPR3_P= recall_score(y_test,y_pred3,average='weighted')\n",
    "\n",
    "print('Kernel base radial {} Kernel polinomico {} Kernel sigmoidal {}'.format(VPR1_P,VPR2_P,VPR3_P))"
   ]
  },
  {
   "cell_type": "markdown",
   "metadata": {},
   "source": [
    "F1 calculado como:\n",
    "$$F1= 2 * \\frac{PPV + VPR}{PPV * VPR}$$\n",
    "\n",
    "Interpretado como el promedio ponderado de la precisión y sensibilidad. El mejor valor es 1, el peor es 0.\n",
    "\n",
    "El F1 para el caso multiclase tiene varias formas de calcularse, dependiendo el valor que se le de al parámetro *average*: \n",
    "* 'micro': calcula el F1 global. \n",
    "* 'macro': calcula el F1 para cada clase y los promedia.\n",
    "* 'weighted': calcula el F1 para cada clase y los promedia en forma ponderada con base en el soporte (número de instancias por clase."
   ]
  },
  {
   "cell_type": "code",
   "execution_count": 51,
   "metadata": {},
   "outputs": [
    {
     "name": "stdout",
     "output_type": "stream",
     "text": [
      "Kernel base radial 0.9765656565656565 Kernel polinomico 1.0 Kernel sigmoidal 0.17486338797814208\n"
     ]
    }
   ],
   "source": [
    "# F1 (sin ponderar) para cada modelo\n",
    "F1_1 = f1_score(y_test,y_pred1,average='macro')\n",
    "F1_2 = f1_score(y_test,y_pred2,average='macro')\n",
    "F1_3 = f1_score(y_test,y_pred3,average='macro')\n",
    "print('Kernel base radial {} Kernel polinomico {} Kernel sigmoidal {}'.format(F1_1,F1_2,F1_3))"
   ]
  },
  {
   "cell_type": "code",
   "execution_count": 52,
   "metadata": {},
   "outputs": [
    {
     "name": "stdout",
     "output_type": "stream",
     "text": [
      "Kernel base radial 0.9778855218855219 Kernel polinomico 1.0 Kernel sigmoidal 0.18652094717668488\n"
     ]
    }
   ],
   "source": [
    "# F1 ponderado para cada modelo\n",
    "F1_1_P = f1_score(y_test,y_pred1,average='weighted')\n",
    "F1_2_P = f1_score(y_test,y_pred2,average='weighted')\n",
    "F1_3_P = f1_score(y_test,y_pred3,average='weighted')\n",
    "print('Kernel base radial {} Kernel polinomico {} Kernel sigmoidal {}'.format(F1_1_P,F1_2_P,F1_3_P))"
   ]
  },
  {
   "cell_type": "markdown",
   "metadata": {},
   "source": [
    "Reporte resumen de métricas"
   ]
  },
  {
   "cell_type": "code",
   "execution_count": 54,
   "metadata": {
    "scrolled": true
   },
   "outputs": [
    {
     "name": "stdout",
     "output_type": "stream",
     "text": [
      "                 precision    recall  f1-score   support\n",
      "\n",
      "    Iris-setosa       1.00      1.00      1.00        16\n",
      "Iris-versicolor       1.00      0.94      0.97        17\n",
      " Iris-virginica       0.92      1.00      0.96        12\n",
      "\n",
      "       accuracy                           0.98        45\n",
      "      macro avg       0.97      0.98      0.98        45\n",
      "   weighted avg       0.98      0.98      0.98        45\n",
      "\n"
     ]
    }
   ],
   "source": [
    "# Crear listas con nombre de clases\n",
    "nombre_clases = df['class'].unique()\n",
    "\n",
    "# Modelo 1: Bagging de modelos SVM con kernel de base radial\n",
    "print(classification_report(y_test,y_pred1,target_names=nombre_clases))"
   ]
  },
  {
   "cell_type": "code",
   "execution_count": 55,
   "metadata": {
    "scrolled": true
   },
   "outputs": [
    {
     "name": "stdout",
     "output_type": "stream",
     "text": [
      "                 precision    recall  f1-score   support\n",
      "\n",
      "    Iris-setosa       1.00      1.00      1.00        16\n",
      "Iris-versicolor       1.00      1.00      1.00        17\n",
      " Iris-virginica       1.00      1.00      1.00        12\n",
      "\n",
      "       accuracy                           1.00        45\n",
      "      macro avg       1.00      1.00      1.00        45\n",
      "   weighted avg       1.00      1.00      1.00        45\n",
      "\n"
     ]
    }
   ],
   "source": [
    "# Modelo 2: Bagging de modelos SVM con kernel de polinómico\n",
    "print(classification_report(y_test,y_pred2,target_names=nombre_clases))"
   ]
  },
  {
   "cell_type": "code",
   "execution_count": 56,
   "metadata": {},
   "outputs": [
    {
     "name": "stdout",
     "output_type": "stream",
     "text": [
      "                 precision    recall  f1-score   support\n",
      "\n",
      "    Iris-setosa       0.36      1.00      0.52        16\n",
      "Iris-versicolor       1.00      0.00      0.00        17\n",
      " Iris-virginica       1.00      0.00      0.00        12\n",
      "\n",
      "       accuracy                           0.36        45\n",
      "      macro avg       0.79      0.33      0.17        45\n",
      "   weighted avg       0.77      0.36      0.19        45\n",
      "\n"
     ]
    }
   ],
   "source": [
    "# Modelo 3: Bagging de modelos SVM con kernel sigmoidal\n",
    "print(classification_report(y_test,y_pred3,target_names=nombre_clases,zero_division=1))"
   ]
  },
  {
   "cell_type": "code",
   "execution_count": 57,
   "metadata": {},
   "outputs": [
    {
     "data": {
      "text/plain": [
       "array([[16,  0,  0],\n",
       "       [17,  0,  0],\n",
       "       [12,  0,  0]], dtype=int64)"
      ]
     },
     "execution_count": 57,
     "metadata": {},
     "output_type": "execute_result"
    }
   ],
   "source": [
    "# En el caso anterior es necesario eliminar la división por cero ya que hay clases que no se clasifican correctamente nunca\n",
    "# Se imprime la matriz de confusión del modelo 3\n",
    "confusion_matrix(y_test,y_pred3)"
   ]
  },
  {
   "cell_type": "code",
   "execution_count": 58,
   "metadata": {},
   "outputs": [
    {
     "data": {
      "text/plain": [
       "array([[16,  0,  0],\n",
       "       [ 0, 17,  0],\n",
       "       [ 0,  0, 12]], dtype=int64)"
      ]
     },
     "execution_count": 58,
     "metadata": {},
     "output_type": "execute_result"
    }
   ],
   "source": [
    "#se imprime la matriz de confusion del modelo 2\n",
    "confusion_matrix(y_test,y_pred2)"
   ]
  },
  {
   "cell_type": "code",
   "execution_count": 59,
   "metadata": {},
   "outputs": [
    {
     "data": {
      "text/plain": [
       "array([[16,  0,  0],\n",
       "       [ 0, 16,  1],\n",
       "       [ 0,  0, 12]], dtype=int64)"
      ]
     },
     "execution_count": 59,
     "metadata": {},
     "output_type": "execute_result"
    }
   ],
   "source": [
    "#se imprime la matriz de confusion del modelo 1\n",
    "confusion_matrix(y_test,y_pred1)"
   ]
  },
  {
   "cell_type": "code",
   "execution_count": 62,
   "metadata": {},
   "outputs": [
    {
     "data": {
      "text/plain": [
       "array([[34,  0,  0],\n",
       "       [ 0, 30,  0],\n",
       "       [ 0,  3, 38]], dtype=int64)"
      ]
     },
     "execution_count": 62,
     "metadata": {},
     "output_type": "execute_result"
    }
   ],
   "source": [
    "# calcular predicciones con el modelo 2 (polinomial) sobre la particion de entrenamiento\n",
    "# verificar sobreajuste, si estuviera sobreajustado 2 datos darias 1 por ejemplo\n",
    "y_pred_train=model_bag2.predict(X_train)\n",
    "confusion_matrix(y_pred_train,y_train)"
   ]
  },
  {
   "cell_type": "code",
   "execution_count": null,
   "metadata": {},
   "outputs": [],
   "source": []
  }
 ],
 "metadata": {
  "kernelspec": {
   "display_name": "Python 3",
   "language": "python",
   "name": "python3"
  },
  "language_info": {
   "codemirror_mode": {
    "name": "ipython",
    "version": 3
   },
   "file_extension": ".py",
   "mimetype": "text/x-python",
   "name": "python",
   "nbconvert_exporter": "python",
   "pygments_lexer": "ipython3",
   "version": "3.7.6"
  }
 },
 "nbformat": 4,
 "nbformat_minor": 4
}
